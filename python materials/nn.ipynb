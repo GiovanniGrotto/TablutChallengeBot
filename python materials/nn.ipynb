{
 "cells": [
  {
   "cell_type": "code",
   "execution_count": 9,
   "outputs": [],
   "source": [
    "import time\n",
    "import random\n",
    "from keras.models import Sequential\n",
    "from keras.layers import Dense\n",
    "import numpy as np\n",
    "import pandas as pd\n",
    "import tensorflow as tf"
   ],
   "metadata": {
    "collapsed": false,
    "ExecuteTime": {
     "end_time": "2023-10-08T13:56:14.587412600Z",
     "start_time": "2023-10-08T13:56:14.573411400Z"
    }
   }
  },
  {
   "cell_type": "code",
   "execution_count": 2,
   "outputs": [],
   "source": [
    "model = Sequential()\n",
    "model.add(Dense(20, input_dim=244, activation='relu'))\n",
    "model.add(Dense(10, activation='relu'))\n",
    "model.add(Dense(1, activation='sigmoid'))"
   ],
   "metadata": {
    "collapsed": false,
    "ExecuteTime": {
     "end_time": "2023-10-08T13:53:46.449442Z",
     "start_time": "2023-10-08T13:53:46.324398700Z"
    }
   }
  },
  {
   "cell_type": "code",
   "execution_count": 3,
   "outputs": [],
   "source": [
    "serialize_df = pd.read_csv(\"C:\\\\Users\\\\giova\\\\OneDrive\\\\Desktop\\\\serialized_data.csv\")\n",
    "serialize_data = serialize_df.to_numpy()\n",
    "np.random.seed(seed=42)\n",
    "np.random.shuffle(serialize_data)\n",
    "splid_val = int(len(serialize_df)*0.80)\n",
    "train_serial_data = serialize_data[:splid_val]\n",
    "test_serial_data = serialize_data[splid_val:]\n",
    "x_test = test_serial_data[:, 1:]\n",
    "y_test = test_serial_data[:, 0]\n",
    "serialize_data_X = train_serial_data[:, 1:]\n",
    "serialize_data_Y = train_serial_data[:, 0]"
   ],
   "metadata": {
    "collapsed": false,
    "ExecuteTime": {
     "end_time": "2023-10-08T13:54:01.574799300Z",
     "start_time": "2023-10-08T13:54:01.375246500Z"
    }
   }
  },
  {
   "cell_type": "code",
   "execution_count": 4,
   "outputs": [
    {
     "name": "stdout",
     "output_type": "stream",
     "text": [
      "Epoch 1/40\n",
      "129/129 [==============================] - 1s 1ms/step - loss: 0.1812 - accuracy: 0.7184\n",
      "Epoch 2/40\n",
      "129/129 [==============================] - 0s 1ms/step - loss: 0.1332 - accuracy: 0.8017\n",
      "Epoch 3/40\n",
      "129/129 [==============================] - 0s 1ms/step - loss: 0.1148 - accuracy: 0.8354\n",
      "Epoch 4/40\n",
      "129/129 [==============================] - 0s 977us/step - loss: 0.1002 - accuracy: 0.8545\n",
      "Epoch 5/40\n",
      "129/129 [==============================] - 0s 854us/step - loss: 0.0891 - accuracy: 0.8750\n",
      "Epoch 6/40\n",
      "129/129 [==============================] - 0s 1ms/step - loss: 0.0793 - accuracy: 0.8865\n",
      "Epoch 7/40\n",
      "129/129 [==============================] - 0s 977us/step - loss: 0.0734 - accuracy: 0.8940\n",
      "Epoch 8/40\n",
      "129/129 [==============================] - 0s 1ms/step - loss: 0.0683 - accuracy: 0.9027\n",
      "Epoch 9/40\n",
      "129/129 [==============================] - 0s 1ms/step - loss: 0.0630 - accuracy: 0.9097\n",
      "Epoch 10/40\n",
      "129/129 [==============================] - 0s 939us/step - loss: 0.0604 - accuracy: 0.9124\n",
      "Epoch 11/40\n",
      "129/129 [==============================] - 0s 1ms/step - loss: 0.0574 - accuracy: 0.9175\n",
      "Epoch 12/40\n",
      "129/129 [==============================] - 0s 976us/step - loss: 0.0543 - accuracy: 0.9216\n",
      "Epoch 13/40\n",
      "129/129 [==============================] - 0s 1ms/step - loss: 0.0543 - accuracy: 0.9204\n",
      "Epoch 14/40\n",
      "129/129 [==============================] - 0s 1ms/step - loss: 0.0520 - accuracy: 0.9237\n",
      "Epoch 15/40\n",
      "129/129 [==============================] - 0s 979us/step - loss: 0.0501 - accuracy: 0.9280\n",
      "Epoch 16/40\n",
      "129/129 [==============================] - 0s 1ms/step - loss: 0.0484 - accuracy: 0.9286\n",
      "Epoch 17/40\n",
      "129/129 [==============================] - 0s 1ms/step - loss: 0.0470 - accuracy: 0.9320\n",
      "Epoch 18/40\n",
      "129/129 [==============================] - 0s 1ms/step - loss: 0.0474 - accuracy: 0.9298\n",
      "Epoch 19/40\n",
      "129/129 [==============================] - 0s 977us/step - loss: 0.0454 - accuracy: 0.9324\n",
      "Epoch 20/40\n",
      "129/129 [==============================] - 0s 977us/step - loss: 0.0443 - accuracy: 0.9339\n",
      "Epoch 21/40\n",
      "129/129 [==============================] - 0s 981us/step - loss: 0.0434 - accuracy: 0.9358\n",
      "Epoch 22/40\n",
      "129/129 [==============================] - 0s 1ms/step - loss: 0.0431 - accuracy: 0.9371\n",
      "Epoch 23/40\n",
      "129/129 [==============================] - 0s 1ms/step - loss: 0.0441 - accuracy: 0.9340\n",
      "Epoch 24/40\n",
      "129/129 [==============================] - 0s 977us/step - loss: 0.0418 - accuracy: 0.9385\n",
      "Epoch 25/40\n",
      "129/129 [==============================] - 0s 1ms/step - loss: 0.0411 - accuracy: 0.9411\n",
      "Epoch 26/40\n",
      "129/129 [==============================] - 0s 977us/step - loss: 0.0412 - accuracy: 0.9393\n",
      "Epoch 27/40\n",
      "129/129 [==============================] - 0s 977us/step - loss: 0.0407 - accuracy: 0.9397\n",
      "Epoch 28/40\n",
      "129/129 [==============================] - 0s 1ms/step - loss: 0.0407 - accuracy: 0.9402\n",
      "Epoch 29/40\n",
      "129/129 [==============================] - 0s 1ms/step - loss: 0.0392 - accuracy: 0.9429\n",
      "Epoch 30/40\n",
      "129/129 [==============================] - 0s 1ms/step - loss: 0.0404 - accuracy: 0.9399\n",
      "Epoch 31/40\n",
      "129/129 [==============================] - 0s 1ms/step - loss: 0.0398 - accuracy: 0.9383\n",
      "Epoch 32/40\n",
      "129/129 [==============================] - 0s 1ms/step - loss: 0.0396 - accuracy: 0.9409\n",
      "Epoch 33/40\n",
      "129/129 [==============================] - 0s 1ms/step - loss: 0.0386 - accuracy: 0.9418\n",
      "Epoch 34/40\n",
      "129/129 [==============================] - 0s 1ms/step - loss: 0.0408 - accuracy: 0.9391\n",
      "Epoch 35/40\n",
      "129/129 [==============================] - 0s 1ms/step - loss: 0.0383 - accuracy: 0.9421\n",
      "Epoch 36/40\n",
      "129/129 [==============================] - 0s 1ms/step - loss: 0.0368 - accuracy: 0.9450\n",
      "Epoch 37/40\n",
      "129/129 [==============================] - 0s 977us/step - loss: 0.0390 - accuracy: 0.9406\n",
      "Epoch 38/40\n",
      "129/129 [==============================] - 0s 977us/step - loss: 0.0377 - accuracy: 0.9444\n",
      "Epoch 39/40\n",
      "129/129 [==============================] - 0s 977us/step - loss: 0.0365 - accuracy: 0.9435\n",
      "Epoch 40/40\n",
      "129/129 [==============================] - 0s 1ms/step - loss: 0.0364 - accuracy: 0.9459\n",
      "33/33 [==============================] - 0s 975us/step - loss: 0.0607 - accuracy: 0.9085\n",
      "Model: \"sequential\"\n",
      "_________________________________________________________________\n",
      " Layer (type)                Output Shape              Param #   \n",
      "=================================================================\n",
      " dense (Dense)               (None, 20)                4900      \n",
      "                                                                 \n",
      " dense_1 (Dense)             (None, 10)                210       \n",
      "                                                                 \n",
      " dense_2 (Dense)             (None, 1)                 11        \n",
      "                                                                 \n",
      "=================================================================\n",
      "Total params: 5121 (20.00 KB)\n",
      "Trainable params: 5121 (20.00 KB)\n",
      "Non-trainable params: 0 (0.00 Byte)\n",
      "_________________________________________________________________\n",
      "None\n",
      "Test score: 0.060745883733034134\n",
      "Test accuracy: 0.9085366129875183\n"
     ]
    }
   ],
   "source": [
    "model.compile(loss='mse', optimizer=tf.keras.optimizers.Adam(\n",
    "        learning_rate=0.002,\n",
    "        beta_1=0.9,\n",
    "        beta_2=0.999,\n",
    "        epsilon=1e-8,), metrics=['accuracy'])\n",
    "\n",
    "history = model.fit(serialize_data_X, serialize_data_Y, epochs=40, batch_size=128)\n",
    "\n",
    "score, acc = model.evaluate(x_test, y_test, batch_size=128)\n",
    "print(model.summary())\n",
    "print('Test score:', score)\n",
    "print('Test accuracy:', acc)"
   ],
   "metadata": {
    "collapsed": false,
    "ExecuteTime": {
     "end_time": "2023-10-08T13:54:08.629335600Z",
     "start_time": "2023-10-08T13:54:02.355539300Z"
    }
   }
  },
  {
   "cell_type": "code",
   "execution_count": 65,
   "outputs": [
    {
     "name": "stdout",
     "output_type": "stream",
     "text": [
      "1025\n",
      "0.0360576624986602\n"
     ]
    }
   ],
   "source": [
    "times = []\n",
    "res1 = []\n",
    "print(len(x_test)//4)\n",
    "for i in range(len(x_test)//4):\n",
    "    start_time = time.time()\n",
    "    #y_pred = model.predict(serialize_data[random.randint(0, 20495)][1:].reshape(1, 244),verbose = 0)\n",
    "    y_pred = model.predict(x_test[i].reshape(1,244),verbose = 0)\n",
    "    times.append(time.time() - start_time)\n",
    "    res1.append(y_pred)\n",
    "print(np.mean(times))"
   ],
   "metadata": {
    "collapsed": false,
    "ExecuteTime": {
     "end_time": "2023-10-08T14:42:59.727502Z",
     "start_time": "2023-10-08T14:42:22.752772800Z"
    }
   }
  },
  {
   "cell_type": "code",
   "execution_count": 24,
   "outputs": [],
   "source": [
    "from sklearn.ensemble import RandomForestRegressor\n",
    "from sklearn.metrics import mean_squared_error"
   ],
   "metadata": {
    "collapsed": false,
    "ExecuteTime": {
     "end_time": "2023-10-08T14:09:17.593535300Z",
     "start_time": "2023-10-08T14:09:17.577980700Z"
    }
   }
  },
  {
   "cell_type": "code",
   "execution_count": 50,
   "outputs": [],
   "source": [
    "rf = RandomForestRegressor(n_estimators = 10, random_state = 42)\n",
    "rf.fit(serialize_data_X, serialize_data_Y);"
   ],
   "metadata": {
    "collapsed": false,
    "ExecuteTime": {
     "end_time": "2023-10-08T14:29:25.526382200Z",
     "start_time": "2023-10-08T14:29:23.584337100Z"
    }
   }
  },
  {
   "cell_type": "code",
   "execution_count": 66,
   "outputs": [
    {
     "name": "stdout",
     "output_type": "stream",
     "text": [
      "[0.9        0.         1.         ... 0.         1.         0.45202361]\n",
      "Mse: 0.06 %.\n"
     ]
    }
   ],
   "source": [
    "# Use the forest's predict method on the test data\n",
    "predictions = rf.predict(x_test)\n",
    "print(predictions)\n",
    "\n",
    "# Calculate and display accuracy\n",
    "mse = mean_squared_error(y_test, predictions)\n",
    "print('Mse:', round(mse, 2), '%.')"
   ],
   "metadata": {
    "collapsed": false,
    "ExecuteTime": {
     "end_time": "2023-10-08T14:43:09.649378300Z",
     "start_time": "2023-10-08T14:43:09.629255200Z"
    }
   }
  },
  {
   "cell_type": "code",
   "execution_count": 67,
   "outputs": [
    {
     "name": "stdout",
     "output_type": "stream",
     "text": [
      "0.0005089694697682451\n"
     ]
    }
   ],
   "source": [
    "times = []\n",
    "res2 = []\n",
    "for i in range(len(x_test)//4):\n",
    "    start_time = time.time()\n",
    "    y_pred = rf.predict(x_test[i].reshape(1,244))\n",
    "    times.append(time.time() - start_time)\n",
    "    res2.append(y_pred)\n",
    "print(np.mean(times))"
   ],
   "metadata": {
    "collapsed": false,
    "ExecuteTime": {
     "end_time": "2023-10-08T14:43:12.476975Z",
     "start_time": "2023-10-08T14:43:11.951701400Z"
    }
   }
  },
  {
   "cell_type": "code",
   "execution_count": 55,
   "outputs": [],
   "source": [
    "res1 = model.predict(x_test,verbose = 0)"
   ],
   "metadata": {
    "collapsed": false,
    "ExecuteTime": {
     "end_time": "2023-10-08T14:30:05.004474600Z",
     "start_time": "2023-10-08T14:30:04.848268800Z"
    }
   }
  },
  {
   "cell_type": "code",
   "execution_count": 72,
   "outputs": [
    {
     "name": "stdout",
     "output_type": "stream",
     "text": [
      "687.3874509277093\n",
      "7.6184423475927145\n"
     ]
    }
   ],
   "source": [
    "print(np.linalg.norm(y_test[:len(x_test)//4] - np.concatenate(res1)))\n",
    "print(np.linalg.norm(y_test[:len(x_test)//4] - np.concatenate(res2)))"
   ],
   "metadata": {
    "collapsed": false,
    "ExecuteTime": {
     "end_time": "2023-10-08T14:43:50.596553100Z",
     "start_time": "2023-10-08T14:43:50.577036700Z"
    }
   }
  },
  {
   "cell_type": "code",
   "execution_count": 75,
   "outputs": [
    {
     "name": "stdout",
     "output_type": "stream",
     "text": [
      "(1025, 1)\n",
      "(4100,)\n",
      "(1025,)\n"
     ]
    }
   ],
   "source": [
    "print(np.concatenate(res1).shape)\n",
    "print(y_test.shape)\n",
    "print(np.concatenate(res2).shape)"
   ],
   "metadata": {
    "collapsed": false,
    "ExecuteTime": {
     "end_time": "2023-10-08T14:44:07.791559300Z",
     "start_time": "2023-10-08T14:44:07.775917400Z"
    }
   }
  },
  {
   "cell_type": "code",
   "execution_count": 76,
   "outputs": [
    {
     "name": "stdout",
     "output_type": "stream",
     "text": [
      "[[9.7528905e-01]\n",
      " [4.0252408e-07]\n",
      " [9.9401492e-01]\n",
      " ...\n",
      " [3.4742981e-02]\n",
      " [3.7841748e-02]\n",
      " [9.9383467e-01]]\n",
      "[1 0 1 ... 0 1 1]\n",
      "[0.9        0.         1.         ... 0.         0.14444444 1.        ]\n"
     ]
    }
   ],
   "source": [
    "print(np.concatenate(res1))\n",
    "print(y_test)\n",
    "print(np.concatenate(res2))"
   ],
   "metadata": {
    "collapsed": false,
    "ExecuteTime": {
     "end_time": "2023-10-08T14:44:17.576892600Z",
     "start_time": "2023-10-08T14:44:17.561259700Z"
    }
   }
  },
  {
   "cell_type": "code",
   "execution_count": null,
   "outputs": [],
   "source": [],
   "metadata": {
    "collapsed": false
   }
  }
 ],
 "metadata": {
  "kernelspec": {
   "display_name": "Python 3",
   "language": "python",
   "name": "python3"
  },
  "language_info": {
   "codemirror_mode": {
    "name": "ipython",
    "version": 2
   },
   "file_extension": ".py",
   "mimetype": "text/x-python",
   "name": "python",
   "nbconvert_exporter": "python",
   "pygments_lexer": "ipython2",
   "version": "2.7.6"
  }
 },
 "nbformat": 4,
 "nbformat_minor": 0
}
